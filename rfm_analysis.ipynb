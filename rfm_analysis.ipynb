{
  "nbformat": 4,
  "nbformat_minor": 0,
  "metadata": {
    "colab": {
      "provenance": [],
      "mount_file_id": "1K0HDKOJUrJiJwG2bevvEiSXnmZQOKwKA",
      "authorship_tag": "ABX9TyNyRdFFXUGZ2KZMNf4/0nk7",
      "include_colab_link": true
    },
    "kernelspec": {
      "name": "python3",
      "display_name": "Python 3"
    },
    "language_info": {
      "name": "python"
    }
  },
  "cells": [
    {
      "cell_type": "markdown",
      "metadata": {
        "id": "view-in-github",
        "colab_type": "text"
      },
      "source": [
        "<a href=\"https://colab.research.google.com/github/simon25-dot/Exercises/blob/main/rfm_analysis.ipynb\" target=\"_parent\"><img src=\"https://colab.research.google.com/assets/colab-badge.svg\" alt=\"Open In Colab\"/></a>"
      ]
    },
    {
      "cell_type": "code",
      "execution_count": null,
      "metadata": {
        "id": "GgQA0ZERcpJX"
      },
      "outputs": [],
      "source": []
    },
    {
      "cell_type": "markdown",
      "source": [
        "# New Section\n",
        "# Performing an rfm of customer data to know how frequent clients get jobs."
      ],
      "metadata": {
        "id": "ev-oGsZ8cwyO"
      }
    },
    {
      "cell_type": "code",
      "source": [
        "#importing necessary librarires to use in the project\n",
        "import pandas as pd\n"
      ],
      "metadata": {
        "id": "5DFjTmaHdMPG"
      },
      "execution_count": 17,
      "outputs": []
    },
    {
      "cell_type": "code",
      "source": [
        "#importing data\n",
        "df = pd.read_excel('practice data.xlsx')\n",
        "df.head()\n",
        "df.tail()\n",
        "df.dropna(subset=['company_id'], inplace=True)\n",
        "df.dropna(inplace=True)\n",
        "df.info()"
      ],
      "metadata": {
        "colab": {
          "base_uri": "https://localhost:8080/"
        },
        "id": "2Q3Ky8kZdY2g",
        "outputId": "3fd8664d-eb1e-4d1e-e6cf-749655a97637"
      },
      "execution_count": 18,
      "outputs": [
        {
          "output_type": "stream",
          "name": "stdout",
          "text": [
            "<class 'pandas.core.frame.DataFrame'>\n",
            "Index: 2186 entries, 0 to 8328\n",
            "Data columns (total 4 columns):\n",
            " #   Column       Non-Null Count  Dtype         \n",
            "---  ------       --------------  -----         \n",
            " 0   campaign_id  2186 non-null   int64         \n",
            " 1   company_id   2186 non-null   int64         \n",
            " 2   start_date   2186 non-null   datetime64[ns]\n",
            " 3   country      2186 non-null   object        \n",
            "dtypes: datetime64[ns](1), int64(2), object(1)\n",
            "memory usage: 85.4+ KB\n"
          ]
        }
      ]
    },
    {
      "cell_type": "markdown",
      "source": [
        "we droped the missing values under the start date column"
      ],
      "metadata": {
        "id": "guCgf1zOgS5-"
      }
    },
    {
      "cell_type": "code",
      "source": [
        "# Convert start_date to datetime format\n",
        "df[\"start_date\"] = pd.to_datetime(df[\"start_date\"])\n",
        "\n",
        "# Calculate Recency\n",
        "recency = df.groupby(\"company_id\")[\"start_date\"].max().reset_index()\n",
        "recency.rename(columns={\"start_date\": \"Recency\"}, inplace=True)"
      ],
      "metadata": {
        "id": "hSDLZAmAitx4"
      },
      "execution_count": 19,
      "outputs": []
    },
    {
      "cell_type": "code",
      "source": [
        "\n",
        "\n",
        "\n",
        "\n",
        "\n",
        "# Calculate Frequency\n",
        "frequency = df.groupby(\"company_id\")[\"start_date\"].count().reset_index()\n",
        "frequency.rename(columns={\"start_date\": \"Frequency\"}, inplace=True)\n",
        "\n",
        "# Merge Recency and Frequency data\n",
        "rf_analysis = recency.merge(frequency, on=\"company_id\")[[\"company_id\", \"Recency\", \"Frequency\"]]\n",
        "\n",
        "# Display the first few results\n",
        "print(rf_analysis.head())\n"
      ],
      "metadata": {
        "id": "_7R7zcYHgR5d",
        "colab": {
          "base_uri": "https://localhost:8080/"
        },
        "outputId": "5ab4b375-667d-41f9-df54-dfae067d8e28"
      },
      "execution_count": 20,
      "outputs": [
        {
          "output_type": "stream",
          "name": "stdout",
          "text": [
            "   company_id    Recency  Frequency\n",
            "0           8 2024-08-31         13\n",
            "1        1191 2024-12-17         27\n",
            "2        1212 2025-01-24          5\n",
            "3        1409 2021-05-31          1\n",
            "4        2069 2023-09-16          4\n"
          ]
        }
      ]
    }
  ]
}